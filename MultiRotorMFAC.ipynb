{
 "cells": [
  {
   "cell_type": "code",
   "execution_count": 1,
   "id": "751b9a7c",
   "metadata": {},
   "outputs": [],
   "source": [
    "from multirotor import MultiRotor\n",
    "\n",
    "import torch\n",
    "import torch.nn as nn\n",
    "import torch.nn.functional as F\n",
    "import torch.optim as optim\n",
    "import torchvision.transforms as transforms\n",
    "\n",
    "import matplotlib.pyplot as plt\n",
    "from celluloid import Camera\n",
    "from matplotlib.animation import FuncAnimation"
   ]
  },
  {
   "cell_type": "code",
   "execution_count": 2,
   "id": "42219f00",
   "metadata": {},
   "outputs": [],
   "source": [
    "class mfac(nn.Module):\n",
    "    def __init__(self, layer_sizes):\n",
    "        super(mfac, self).__init__()\n",
    "        \n",
    "        self.first_layer = torch.zeros(layer_sizes[0])\n",
    "        \n",
    "        self.hidden_layers = [\n",
    "            nn.Sequential(nn.Linear(nlminus1, nl), nn.ReLU())\n",
    "            for nl, nlminus1 in zip(layer_sizes[1:-1], layer_sizes)\n",
    "        ]\n",
    "        \n",
    "        self.output_layer = nn.Linear(layer_sizes[-2], layer_sizes[-1])\n",
    "        \n",
    "        self.layers = nn.Sequential(*self.hidden_layers, self.output_layer)\n",
    "        \n",
    "    def forward(self, x):\n",
    "        \n",
    "        first_layer_tensor = torch.roll(self.first_layer, 1)\n",
    "        first_layer_tensor[0] = x\n",
    "        \n",
    "        #HELP\n",
    "        e = self.layers(first_layer_tensor)\n",
    "        return e"
   ]
  },
  {
   "cell_type": "code",
   "execution_count": 3,
   "id": "eb67c233",
   "metadata": {},
   "outputs": [],
   "source": [
    "# Simulation timing\n",
    "time_start = 0\n",
    "time_stop = 30\n",
    "num_time_points = 1000\n",
    "time = torch.linspace(time_start, time_stop, num_time_points)\n",
    "time_step = time[1] - time[0]"
   ]
  },
  {
   "cell_type": "code",
   "execution_count": 4,
   "id": "5e361c50",
   "metadata": {},
   "outputs": [],
   "source": [
    "mr = MultiRotor(dt=time_step)\n",
    "\n",
    "# The input layer size\n",
    "n0 = 5\n",
    "\n",
    "# The output layer\n",
    "nL = 1\n",
    "\n",
    "# Hidden layers' sizes\n",
    "neurons_per_layer = [13, 17]\n",
    "\n",
    "# Preprend the input and append the output layer sizes\n",
    "layer_sizes = [n0] + neurons_per_layer + [nL]\n",
    "\n",
    "net = mfac(layer_sizes)"
   ]
  },
  {
   "cell_type": "code",
   "execution_count": 5,
   "id": "2a52960c",
   "metadata": {},
   "outputs": [],
   "source": [
    "criterion = nn.MSELoss()\n",
    "optimizer = optim.Adam(net.parameters(), lr=0.001)"
   ]
  },
  {
   "cell_type": "code",
   "execution_count": 6,
   "id": "0930cd9f",
   "metadata": {},
   "outputs": [],
   "source": [
    "# Altitude target (setpoint) is up 10m\n",
    "altitude_setpoint = mr.get_altitude() + 10"
   ]
  },
  {
   "cell_type": "code",
   "execution_count": 7,
   "id": "c606f9d0",
   "metadata": {},
   "outputs": [],
   "source": [
    "# Initialize variables to keep track of data for animation\n",
    "time_data = []\n",
    "altitude_data = []"
   ]
  },
  {
   "cell_type": "code",
   "execution_count": 8,
   "id": "e89899bb",
   "metadata": {
    "scrolled": false
   },
   "outputs": [],
   "source": [
    "for t in time:\n",
    "    error = float(altitude_setpoint - mr.get_altitude())\n",
    "    output = net(error)\n",
    "    curr_altitude, curr_velocity = mr.step(output.item())\n",
    "    \n",
    "    optimizer.zero_grad()\n",
    "    loss = criterion(output, torch.as_tensor([error]))\n",
    "    loss.backward()\n",
    "    optimizer.step()\n",
    "    \n",
    "    time_data.append(t)\n",
    "    altitude_data.append(curr_altitude.item())"
   ]
  },
  {
   "cell_type": "code",
   "execution_count": 9,
   "id": "ecf1e88e",
   "metadata": {},
   "outputs": [
    {
     "data": {
      "image/png": "[encoded data removed]",
      "text/plain": [
       "<Figure size 432x288 with 1 Axes>"
      ]
     },
     "metadata": {
      "needs_background": "light"
     },
     "output_type": "display_data"
    }
   ],
   "source": [
    "# frames.append(observation.copy())\n",
    "\n",
    "# Initialize subplots\n",
    "fig, ax = plt.subplots()\n",
    "\n",
    "# St axis of animation\n",
    "ax.set(xlim=(0,30), ylim=(0, 25))\n",
    "\n",
    "# Labels\n",
    "ax.set_xlabel('Time', fontsize=15)\n",
    "ax.set_ylabel('Altitude', fontsize=15);\n",
    "\n",
    "\n",
    "\n",
    "# Initiate camera\n",
    "camera = Camera(fig)\n",
    "\n",
    "for i in range(0, num_time_points, 10):\n",
    "    ax.axhline(y=altitude_setpoint, color='r')\n",
    "    \n",
    "    ax.plot(time_data[i], altitude_data[i], marker='o', markersize=10, markeredgecolor='b', markerfacecolor='b')\n",
    "    \n",
    "    # Show Projectile's trajectory\n",
    "    ax.plot(time_data[0:i], altitude_data[0:i], color='b', lw=2, linestyle='--')\n",
    "    \n",
    "    # Capture frame\n",
    "    camera.snap()\n",
    "\n",
    "from IPython.display import HTML\n",
    "\n",
    "# Create animation\n",
    "anim = camera.animate(interval = 1, repeat = True, repeat_delay = 100)\n",
    "\n",
    "HTML(anim.to_jshtml())\n",
    "\n",
    "# Save animation\n",
    "anim.save(\"mfac_sim\" + \".gif\")"
   ]
  },
  {
   "cell_type": "code",
   "execution_count": null,
   "id": "f5c62568",
   "metadata": {},
   "outputs": [],
   "source": []
  }
 ],
 "metadata": {
  "kernelspec": {
   "display_name": "Python 3 (ipykernel)",
   "language": "python",
   "name": "python3"
  },
  "language_info": {
   "codemirror_mode": {
    "name": "ipython",
    "version": 3
   },
   "file_extension": ".py",
   "mimetype": "text/x-python",
   "name": "python",
   "nbconvert_exporter": "python",
   "pygments_lexer": "ipython3",
   "version": "3.8.5"
  }
 },
 "nbformat": 4,
 "nbformat_minor": 5
}

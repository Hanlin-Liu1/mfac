{
 "cells": [
  {
   "cell_type": "code",
   "execution_count": 79,
   "id": "751b9a7c",
   "metadata": {},
   "outputs": [],
   "source": [
    "from multirotor import MultiRotor\n",
    "\n",
    "import torch\n",
    "import torch.nn as nn\n",
    "import torch.nn.functional as F\n",
    "import torch.optim as optim\n",
    "import torchvision.transforms as transforms\n",
    "\n",
    "import matplotlib.pyplot as plt\n",
    "from matplotlib.animation import FuncAnimation\n",
    "import numpy as np\n",
    "import pandas as pd\n",
    "\n",
    "import seaborn as sns\n",
    "\n",
    "sns.set_style(\"whitegrid\")"
   ]
  },
  {
   "cell_type": "code",
   "execution_count": 86,
   "id": "42219f00",
   "metadata": {},
   "outputs": [],
   "source": [
    "class mfac(nn.Module):\n",
    "    def __init__(self, layer_sizes):\n",
    "        super(mfac, self).__init__()\n",
    "        \n",
    "        self.first_layer = np.zeros(layer_sizes[0])\n",
    "        \n",
    "        self.hidden_layers = [\n",
    "            nn.Sequential(nn.Linear(nlminus1, nl), nn.ReLU())\n",
    "            for nl, nlminus1 in zip(layer_sizes[1:-1], layer_sizes)\n",
    "        ]\n",
    "        \n",
    "        self.output_layer = nn.Linear(layer_sizes[-2], layer_sizes[-1])\n",
    "        \n",
    "    def forward(self, x):\n",
    "        \n",
    "        self.first_layer = np.roll(self.first_layer, 1)\n",
    "        self.first_layer[0] = x\n",
    "        first_layer_tensor = torch.from_numpy(self.first_layer)\n",
    "        \n",
    "        #HELP\n",
    "        e = self.hidden_layers(first_layer_tensor)\n",
    "        e = self.output_layer(e)\n",
    "        \n",
    "        return e"
   ]
  },
  {
   "cell_type": "code",
   "execution_count": 87,
   "id": "eb67c233",
   "metadata": {},
   "outputs": [],
   "source": [
    "# Simulation timing\n",
    "time_start = 0\n",
    "time_stop = 30\n",
    "num_time_points = 1000\n",
    "time = np.linspace(time_start, time_stop, num_time_points)\n",
    "time_step = time[1] - time[0]"
   ]
  },
  {
   "cell_type": "code",
   "execution_count": 88,
   "id": "5e361c50",
   "metadata": {},
   "outputs": [],
   "source": [
    "mr = MultiRotor(dt=time_step)\n",
    "\n",
    "# The input layer size\n",
    "n0 = 5\n",
    "\n",
    "# The output layer\n",
    "nL = 1\n",
    "\n",
    "# Hidden layers' sizes\n",
    "neurons_per_layer = [13, 17]\n",
    "\n",
    "# Preprend the input and append the output layer sizes\n",
    "layer_sizes = [n0] + neurons_per_layer + [nL]\n",
    "\n",
    "net = mfac(layer_sizes)"
   ]
  },
  {
   "cell_type": "code",
   "execution_count": 89,
   "id": "2a52960c",
   "metadata": {},
   "outputs": [],
   "source": [
    "criterion = nn.MSELoss()\n",
    "optimizer = optim.Adam(net.parameters(), lr=0.0011)"
   ]
  },
  {
   "cell_type": "code",
   "execution_count": 90,
   "id": "0930cd9f",
   "metadata": {},
   "outputs": [],
   "source": [
    "# Altitude target (setpoint) is up 10m\n",
    "altitude_setpoint = mr.get_altitude() + 10"
   ]
  },
  {
   "cell_type": "code",
   "execution_count": 91,
   "id": "e89899bb",
   "metadata": {
    "scrolled": false
   },
   "outputs": [
    {
     "ename": "TypeError",
     "evalue": "'list' object is not callable",
     "output_type": "error",
     "traceback": [
      "\u001b[0;31m---------------------------------------------------------------------------\u001b[0m",
      "\u001b[0;31mTypeError\u001b[0m                                 Traceback (most recent call last)",
      "Input \u001b[0;32mIn [91]\u001b[0m, in \u001b[0;36m<cell line: 1>\u001b[0;34m()\u001b[0m\n\u001b[1;32m      1\u001b[0m \u001b[38;5;28;01mfor\u001b[39;00m t \u001b[38;5;129;01min\u001b[39;00m time:\n\u001b[1;32m      2\u001b[0m     error \u001b[38;5;241m=\u001b[39m \u001b[38;5;28mfloat\u001b[39m(altitude_setpoint \u001b[38;5;241m-\u001b[39m mr\u001b[38;5;241m.\u001b[39mget_altitude())\n\u001b[0;32m----> 3\u001b[0m     output \u001b[38;5;241m=\u001b[39m net(error)\n\u001b[1;32m      4\u001b[0m     curr_altitude, curr_velocity \u001b[38;5;241m=\u001b[39m mr\u001b[38;5;241m.\u001b[39mstep(output)\n\u001b[1;32m      6\u001b[0m     optimizer\u001b[38;5;241m.\u001b[39mzero_grad()\n",
      "File \u001b[0;32m~/.local/lib/python3.8/site-packages/torch/nn/modules/module.py:1051\u001b[0m, in \u001b[0;36mModule._call_impl\u001b[0;34m(self, *input, **kwargs)\u001b[0m\n\u001b[1;32m   1047\u001b[0m \u001b[38;5;66;03m# If we don't have any hooks, we want to skip the rest of the logic in\u001b[39;00m\n\u001b[1;32m   1048\u001b[0m \u001b[38;5;66;03m# this function, and just call forward.\u001b[39;00m\n\u001b[1;32m   1049\u001b[0m \u001b[38;5;28;01mif\u001b[39;00m \u001b[38;5;129;01mnot\u001b[39;00m (\u001b[38;5;28mself\u001b[39m\u001b[38;5;241m.\u001b[39m_backward_hooks \u001b[38;5;129;01mor\u001b[39;00m \u001b[38;5;28mself\u001b[39m\u001b[38;5;241m.\u001b[39m_forward_hooks \u001b[38;5;129;01mor\u001b[39;00m \u001b[38;5;28mself\u001b[39m\u001b[38;5;241m.\u001b[39m_forward_pre_hooks \u001b[38;5;129;01mor\u001b[39;00m _global_backward_hooks\n\u001b[1;32m   1050\u001b[0m         \u001b[38;5;129;01mor\u001b[39;00m _global_forward_hooks \u001b[38;5;129;01mor\u001b[39;00m _global_forward_pre_hooks):\n\u001b[0;32m-> 1051\u001b[0m     \u001b[38;5;28;01mreturn\u001b[39;00m \u001b[43mforward_call\u001b[49m\u001b[43m(\u001b[49m\u001b[38;5;241;43m*\u001b[39;49m\u001b[38;5;28;43minput\u001b[39;49m\u001b[43m,\u001b[49m\u001b[43m \u001b[49m\u001b[38;5;241;43m*\u001b[39;49m\u001b[38;5;241;43m*\u001b[39;49m\u001b[43mkwargs\u001b[49m\u001b[43m)\u001b[49m\n\u001b[1;32m   1052\u001b[0m \u001b[38;5;66;03m# Do not call functions when jit is used\u001b[39;00m\n\u001b[1;32m   1053\u001b[0m full_backward_hooks, non_full_backward_hooks \u001b[38;5;241m=\u001b[39m [], []\n",
      "Input \u001b[0;32mIn [86]\u001b[0m, in \u001b[0;36mmfac.forward\u001b[0;34m(self, x)\u001b[0m\n\u001b[1;32m     18\u001b[0m first_layer_tensor \u001b[38;5;241m=\u001b[39m torch\u001b[38;5;241m.\u001b[39mfrom_numpy(\u001b[38;5;28mself\u001b[39m\u001b[38;5;241m.\u001b[39mfirst_layer)\n\u001b[1;32m     20\u001b[0m \u001b[38;5;66;03m#HELP\u001b[39;00m\n\u001b[0;32m---> 21\u001b[0m e \u001b[38;5;241m=\u001b[39m \u001b[38;5;28;43mself\u001b[39;49m\u001b[38;5;241;43m.\u001b[39;49m\u001b[43mhidden_layers\u001b[49m\u001b[43m(\u001b[49m\u001b[43mfirst_layer_tensor\u001b[49m\u001b[43m)\u001b[49m\n\u001b[1;32m     22\u001b[0m e \u001b[38;5;241m=\u001b[39m \u001b[38;5;28mself\u001b[39m\u001b[38;5;241m.\u001b[39moutput_layer(e)\n\u001b[1;32m     24\u001b[0m \u001b[38;5;28;01mreturn\u001b[39;00m e\n",
      "\u001b[0;31mTypeError\u001b[0m: 'list' object is not callable"
     ]
    }
   ],
   "source": [
    "for t in time:\n",
    "    error = float(altitude_setpoint - mr.get_altitude())\n",
    "    output = net(error)\n",
    "    curr_altitude, curr_velocity = mr.step(output)\n",
    "    \n",
    "    optimizer.zero_grad()\n",
    "    loss = criterion(output, torch.as_tensor([error]))\n",
    "    loss.backward()\n",
    "    optimizer.step()\n",
    "    \n",
    "    print(curr_altitude)"
   ]
  },
  {
   "cell_type": "code",
   "execution_count": null,
   "id": "c5cc2f3f",
   "metadata": {},
   "outputs": [],
   "source": []
  },
  {
   "cell_type": "code",
   "execution_count": null,
   "id": "ecf1e88e",
   "metadata": {},
   "outputs": [],
   "source": [
    "# frames.append(observation.copy())\n",
    "\n",
    "# Initialize subplots\n",
    "fig, ax = plt.subplots()\n",
    "\n",
    "# Set axis of animation\n",
    "ax.set(xlim=(0,300), ylim=(240,0))\n",
    "\n",
    "# Initialize frame\n",
    "frame = plt.imshow(frames[0])\n",
    "\n",
    "def init():\n",
    "    \"\"\"\n",
    "    Creates initial frame for animation.\n",
    "    \n",
    "    :return: (list) a list of the initial frame for animation\n",
    "    \"\"\"\n",
    "    frame.set_data(frames[0])\n",
    "    return [frame]\n",
    "\n",
    "def animate(i):\n",
    "    \"\"\"\n",
    "    Updates the state of the frame at each point of the animation.\n",
    "    \n",
    "    :param i: (ndarray) current image/frame\n",
    "    :return: (list) a list of the current frame for animation\n",
    "    \"\"\"\n",
    "    # Define the updated content of frame\n",
    "    frame.set_array(i)\n",
    "    return [frame]\n",
    "\n",
    "from IPython.display import HTML\n",
    "\n",
    "# Take images, functions, and other parameters and create an animation\n",
    "ani = FuncAnimation(fig, animate, frames[::35], init_func = init, interval = 200)\n",
    "HTML(ani.to_jshtml())\n",
    "# -\n",
    "\n",
    "# Save animation\n",
    "ani.save(\"animation\" + \".gif\")"
   ]
  }
 ],
 "metadata": {
  "kernelspec": {
   "display_name": "Python 3 (ipykernel)",
   "language": "python",
   "name": "python3"
  },
  "language_info": {
   "codemirror_mode": {
    "name": "ipython",
    "version": 3
   },
   "file_extension": ".py",
   "mimetype": "text/x-python",
   "name": "python",
   "nbconvert_exporter": "python",
   "pygments_lexer": "ipython3",
   "version": "3.8.5"
  }
 },
 "nbformat": 4,
 "nbformat_minor": 5
}
